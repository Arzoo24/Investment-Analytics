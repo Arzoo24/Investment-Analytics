{
  "metadata": {
    "language_info": {
      "codemirror_mode": {
        "name": "python",
        "version": 3
      },
      "file_extension": ".py",
      "mimetype": "text/x-python",
      "name": "python",
      "nbconvert_exporter": "python",
      "pygments_lexer": "ipython3",
      "version": "3.8"
    },
    "kernelspec": {
      "name": "python",
      "display_name": "Python (Pyodide)",
      "language": "python"
    }
  },
  "nbformat_minor": 4,
  "nbformat": 4,
  "cells": [
    {
      "cell_type": "code",
      "source": "# Import Libraries\nimport numpy as np\nimport pandas as pd\nimport matplotlib.pyplot as plt\n",
      "metadata": {
        "trusted": true
      },
      "execution_count": 10,
      "outputs": []
    },
    {
      "cell_type": "code",
      "source": "df = pd.read_csv(\"FDI_in_India.csv\")",
      "metadata": {
        "trusted": true
      },
      "execution_count": 11,
      "outputs": []
    },
    {
      "cell_type": "code",
      "source": "df",
      "metadata": {
        "trusted": true
      },
      "execution_count": 12,
      "outputs": [
        {
          "execution_count": 12,
          "output_type": "execute_result",
          "data": {
            "text/plain": "                                               Sector  2000-01  2001-02  \\\n0                            METALLURGICAL INDUSTRIES    22.69    14.14   \n1                                              MINING     1.32     6.52   \n2                                               POWER    89.42   757.44   \n3                             NON-CONVENTIONAL ENERGY     0.00     0.00   \n4                                     COAL PRODUCTION     0.00     0.00   \n..                                                ...      ...      ...   \n58  PRINTING OF BOOKS (INCLUDING LITHO PRINTING IN...     0.00     0.00   \n59                                               COIR     0.00     0.00   \n60           CONSTRUCTION (INFRASTRUCTURE) ACTIVITIES     0.00     0.00   \n61  CONSTRUCTION DEVELOPMENT: Townships, housing, ...    24.33    51.75   \n62                           MISCELLANEOUS INDUSTRIES   832.07   221.37   \n\n    2002-03  2003-04  2004-05  2005-06  2006-07  2007-08  2008-09  2009-10  \\\n0     36.61     8.11   200.38   149.13   169.94  1175.75   959.94   419.88   \n1     10.06    23.48     9.92     7.40     6.62   444.36    34.16   174.40   \n2     59.11    27.09    43.37    72.69   157.15   988.68   907.66  1271.79   \n3      1.70     4.14     1.27     1.35     2.44    58.82   125.88   622.52   \n4      0.00     0.04     0.00     9.14     1.30    14.08     0.22     0.00   \n..      ...      ...      ...      ...      ...      ...      ...      ...   \n58     6.30     0.00     0.06     9.90    20.04    35.54    31.61    70.51   \n59     0.00     0.00     0.47     0.59     0.04     0.01     0.00     0.25   \n60     0.00     0.00     0.00     0.93    64.06   182.92   172.70   324.56   \n61    36.10    47.04   152.06   228.71  1392.95  3887.33  4657.51  5466.13   \n62   218.76   235.48   121.83   164.76   304.87   528.42  1549.70  1147.56   \n\n    2010-11  2011-12  2012-13  2013-14  2014-15  2015-16  2016-17  \n0   1098.14  1786.14  1466.23   567.63   359.34   456.31  1440.18  \n1     79.51   142.65    57.89    12.73   684.39   520.67    55.75  \n2   1271.77  1652.38   535.68  1066.08   707.04   868.80  1112.98  \n3    214.40   452.17  1106.52   414.25   615.95   776.51   783.57  \n4      0.00     0.00     0.00     2.96     0.00     0.00     0.00  \n..      ...      ...      ...      ...      ...      ...      ...  \n58    36.63    47.39    14.34   113.78    72.58   122.81    53.17  \n59     0.10     0.55     0.15     0.54     1.36     0.00     0.00  \n60   675.07   386.28   283.89   485.37   870.25  4510.71  1860.73  \n61  1663.03  3140.78  1332.49  1226.05   769.14   112.55   105.14  \n62  1475.97   813.38   229.49   468.74   765.88   668.77   296.40  \n\n[63 rows x 18 columns]",
            "text/html": "<div>\n<style scoped>\n    .dataframe tbody tr th:only-of-type {\n        vertical-align: middle;\n    }\n\n    .dataframe tbody tr th {\n        vertical-align: top;\n    }\n\n    .dataframe thead th {\n        text-align: right;\n    }\n</style>\n<table border=\"1\" class=\"dataframe\">\n  <thead>\n    <tr style=\"text-align: right;\">\n      <th></th>\n      <th>Sector</th>\n      <th>2000-01</th>\n      <th>2001-02</th>\n      <th>2002-03</th>\n      <th>2003-04</th>\n      <th>2004-05</th>\n      <th>2005-06</th>\n      <th>2006-07</th>\n      <th>2007-08</th>\n      <th>2008-09</th>\n      <th>2009-10</th>\n      <th>2010-11</th>\n      <th>2011-12</th>\n      <th>2012-13</th>\n      <th>2013-14</th>\n      <th>2014-15</th>\n      <th>2015-16</th>\n      <th>2016-17</th>\n    </tr>\n  </thead>\n  <tbody>\n    <tr>\n      <th>0</th>\n      <td>METALLURGICAL INDUSTRIES</td>\n      <td>22.69</td>\n      <td>14.14</td>\n      <td>36.61</td>\n      <td>8.11</td>\n      <td>200.38</td>\n      <td>149.13</td>\n      <td>169.94</td>\n      <td>1175.75</td>\n      <td>959.94</td>\n      <td>419.88</td>\n      <td>1098.14</td>\n      <td>1786.14</td>\n      <td>1466.23</td>\n      <td>567.63</td>\n      <td>359.34</td>\n      <td>456.31</td>\n      <td>1440.18</td>\n    </tr>\n    <tr>\n      <th>1</th>\n      <td>MINING</td>\n      <td>1.32</td>\n      <td>6.52</td>\n      <td>10.06</td>\n      <td>23.48</td>\n      <td>9.92</td>\n      <td>7.40</td>\n      <td>6.62</td>\n      <td>444.36</td>\n      <td>34.16</td>\n      <td>174.40</td>\n      <td>79.51</td>\n      <td>142.65</td>\n      <td>57.89</td>\n      <td>12.73</td>\n      <td>684.39</td>\n      <td>520.67</td>\n      <td>55.75</td>\n    </tr>\n    <tr>\n      <th>2</th>\n      <td>POWER</td>\n      <td>89.42</td>\n      <td>757.44</td>\n      <td>59.11</td>\n      <td>27.09</td>\n      <td>43.37</td>\n      <td>72.69</td>\n      <td>157.15</td>\n      <td>988.68</td>\n      <td>907.66</td>\n      <td>1271.79</td>\n      <td>1271.77</td>\n      <td>1652.38</td>\n      <td>535.68</td>\n      <td>1066.08</td>\n      <td>707.04</td>\n      <td>868.80</td>\n      <td>1112.98</td>\n    </tr>\n    <tr>\n      <th>3</th>\n      <td>NON-CONVENTIONAL ENERGY</td>\n      <td>0.00</td>\n      <td>0.00</td>\n      <td>1.70</td>\n      <td>4.14</td>\n      <td>1.27</td>\n      <td>1.35</td>\n      <td>2.44</td>\n      <td>58.82</td>\n      <td>125.88</td>\n      <td>622.52</td>\n      <td>214.40</td>\n      <td>452.17</td>\n      <td>1106.52</td>\n      <td>414.25</td>\n      <td>615.95</td>\n      <td>776.51</td>\n      <td>783.57</td>\n    </tr>\n    <tr>\n      <th>4</th>\n      <td>COAL PRODUCTION</td>\n      <td>0.00</td>\n      <td>0.00</td>\n      <td>0.00</td>\n      <td>0.04</td>\n      <td>0.00</td>\n      <td>9.14</td>\n      <td>1.30</td>\n      <td>14.08</td>\n      <td>0.22</td>\n      <td>0.00</td>\n      <td>0.00</td>\n      <td>0.00</td>\n      <td>0.00</td>\n      <td>2.96</td>\n      <td>0.00</td>\n      <td>0.00</td>\n      <td>0.00</td>\n    </tr>\n    <tr>\n      <th>...</th>\n      <td>...</td>\n      <td>...</td>\n      <td>...</td>\n      <td>...</td>\n      <td>...</td>\n      <td>...</td>\n      <td>...</td>\n      <td>...</td>\n      <td>...</td>\n      <td>...</td>\n      <td>...</td>\n      <td>...</td>\n      <td>...</td>\n      <td>...</td>\n      <td>...</td>\n      <td>...</td>\n      <td>...</td>\n      <td>...</td>\n    </tr>\n    <tr>\n      <th>58</th>\n      <td>PRINTING OF BOOKS (INCLUDING LITHO PRINTING IN...</td>\n      <td>0.00</td>\n      <td>0.00</td>\n      <td>6.30</td>\n      <td>0.00</td>\n      <td>0.06</td>\n      <td>9.90</td>\n      <td>20.04</td>\n      <td>35.54</td>\n      <td>31.61</td>\n      <td>70.51</td>\n      <td>36.63</td>\n      <td>47.39</td>\n      <td>14.34</td>\n      <td>113.78</td>\n      <td>72.58</td>\n      <td>122.81</td>\n      <td>53.17</td>\n    </tr>\n    <tr>\n      <th>59</th>\n      <td>COIR</td>\n      <td>0.00</td>\n      <td>0.00</td>\n      <td>0.00</td>\n      <td>0.00</td>\n      <td>0.47</td>\n      <td>0.59</td>\n      <td>0.04</td>\n      <td>0.01</td>\n      <td>0.00</td>\n      <td>0.25</td>\n      <td>0.10</td>\n      <td>0.55</td>\n      <td>0.15</td>\n      <td>0.54</td>\n      <td>1.36</td>\n      <td>0.00</td>\n      <td>0.00</td>\n    </tr>\n    <tr>\n      <th>60</th>\n      <td>CONSTRUCTION (INFRASTRUCTURE) ACTIVITIES</td>\n      <td>0.00</td>\n      <td>0.00</td>\n      <td>0.00</td>\n      <td>0.00</td>\n      <td>0.00</td>\n      <td>0.93</td>\n      <td>64.06</td>\n      <td>182.92</td>\n      <td>172.70</td>\n      <td>324.56</td>\n      <td>675.07</td>\n      <td>386.28</td>\n      <td>283.89</td>\n      <td>485.37</td>\n      <td>870.25</td>\n      <td>4510.71</td>\n      <td>1860.73</td>\n    </tr>\n    <tr>\n      <th>61</th>\n      <td>CONSTRUCTION DEVELOPMENT: Townships, housing, ...</td>\n      <td>24.33</td>\n      <td>51.75</td>\n      <td>36.10</td>\n      <td>47.04</td>\n      <td>152.06</td>\n      <td>228.71</td>\n      <td>1392.95</td>\n      <td>3887.33</td>\n      <td>4657.51</td>\n      <td>5466.13</td>\n      <td>1663.03</td>\n      <td>3140.78</td>\n      <td>1332.49</td>\n      <td>1226.05</td>\n      <td>769.14</td>\n      <td>112.55</td>\n      <td>105.14</td>\n    </tr>\n    <tr>\n      <th>62</th>\n      <td>MISCELLANEOUS INDUSTRIES</td>\n      <td>832.07</td>\n      <td>221.37</td>\n      <td>218.76</td>\n      <td>235.48</td>\n      <td>121.83</td>\n      <td>164.76</td>\n      <td>304.87</td>\n      <td>528.42</td>\n      <td>1549.70</td>\n      <td>1147.56</td>\n      <td>1475.97</td>\n      <td>813.38</td>\n      <td>229.49</td>\n      <td>468.74</td>\n      <td>765.88</td>\n      <td>668.77</td>\n      <td>296.40</td>\n    </tr>\n  </tbody>\n</table>\n<p>63 rows × 18 columns</p>\n</div>"
          },
          "metadata": {}
        }
      ]
    },
    {
      "cell_type": "code",
      "source": "# Top 5 data\ndf.head()",
      "metadata": {
        "trusted": true
      },
      "execution_count": 13,
      "outputs": [
        {
          "execution_count": 13,
          "output_type": "execute_result",
          "data": {
            "text/plain": "                     Sector  2000-01  2001-02  2002-03  2003-04  2004-05  \\\n0  METALLURGICAL INDUSTRIES    22.69    14.14    36.61     8.11   200.38   \n1                    MINING     1.32     6.52    10.06    23.48     9.92   \n2                     POWER    89.42   757.44    59.11    27.09    43.37   \n3   NON-CONVENTIONAL ENERGY     0.00     0.00     1.70     4.14     1.27   \n4           COAL PRODUCTION     0.00     0.00     0.00     0.04     0.00   \n\n   2005-06  2006-07  2007-08  2008-09  2009-10  2010-11  2011-12  2012-13  \\\n0   149.13   169.94  1175.75   959.94   419.88  1098.14  1786.14  1466.23   \n1     7.40     6.62   444.36    34.16   174.40    79.51   142.65    57.89   \n2    72.69   157.15   988.68   907.66  1271.79  1271.77  1652.38   535.68   \n3     1.35     2.44    58.82   125.88   622.52   214.40   452.17  1106.52   \n4     9.14     1.30    14.08     0.22     0.00     0.00     0.00     0.00   \n\n   2013-14  2014-15  2015-16  2016-17  \n0   567.63   359.34   456.31  1440.18  \n1    12.73   684.39   520.67    55.75  \n2  1066.08   707.04   868.80  1112.98  \n3   414.25   615.95   776.51   783.57  \n4     2.96     0.00     0.00     0.00  ",
            "text/html": "<div>\n<style scoped>\n    .dataframe tbody tr th:only-of-type {\n        vertical-align: middle;\n    }\n\n    .dataframe tbody tr th {\n        vertical-align: top;\n    }\n\n    .dataframe thead th {\n        text-align: right;\n    }\n</style>\n<table border=\"1\" class=\"dataframe\">\n  <thead>\n    <tr style=\"text-align: right;\">\n      <th></th>\n      <th>Sector</th>\n      <th>2000-01</th>\n      <th>2001-02</th>\n      <th>2002-03</th>\n      <th>2003-04</th>\n      <th>2004-05</th>\n      <th>2005-06</th>\n      <th>2006-07</th>\n      <th>2007-08</th>\n      <th>2008-09</th>\n      <th>2009-10</th>\n      <th>2010-11</th>\n      <th>2011-12</th>\n      <th>2012-13</th>\n      <th>2013-14</th>\n      <th>2014-15</th>\n      <th>2015-16</th>\n      <th>2016-17</th>\n    </tr>\n  </thead>\n  <tbody>\n    <tr>\n      <th>0</th>\n      <td>METALLURGICAL INDUSTRIES</td>\n      <td>22.69</td>\n      <td>14.14</td>\n      <td>36.61</td>\n      <td>8.11</td>\n      <td>200.38</td>\n      <td>149.13</td>\n      <td>169.94</td>\n      <td>1175.75</td>\n      <td>959.94</td>\n      <td>419.88</td>\n      <td>1098.14</td>\n      <td>1786.14</td>\n      <td>1466.23</td>\n      <td>567.63</td>\n      <td>359.34</td>\n      <td>456.31</td>\n      <td>1440.18</td>\n    </tr>\n    <tr>\n      <th>1</th>\n      <td>MINING</td>\n      <td>1.32</td>\n      <td>6.52</td>\n      <td>10.06</td>\n      <td>23.48</td>\n      <td>9.92</td>\n      <td>7.40</td>\n      <td>6.62</td>\n      <td>444.36</td>\n      <td>34.16</td>\n      <td>174.40</td>\n      <td>79.51</td>\n      <td>142.65</td>\n      <td>57.89</td>\n      <td>12.73</td>\n      <td>684.39</td>\n      <td>520.67</td>\n      <td>55.75</td>\n    </tr>\n    <tr>\n      <th>2</th>\n      <td>POWER</td>\n      <td>89.42</td>\n      <td>757.44</td>\n      <td>59.11</td>\n      <td>27.09</td>\n      <td>43.37</td>\n      <td>72.69</td>\n      <td>157.15</td>\n      <td>988.68</td>\n      <td>907.66</td>\n      <td>1271.79</td>\n      <td>1271.77</td>\n      <td>1652.38</td>\n      <td>535.68</td>\n      <td>1066.08</td>\n      <td>707.04</td>\n      <td>868.80</td>\n      <td>1112.98</td>\n    </tr>\n    <tr>\n      <th>3</th>\n      <td>NON-CONVENTIONAL ENERGY</td>\n      <td>0.00</td>\n      <td>0.00</td>\n      <td>1.70</td>\n      <td>4.14</td>\n      <td>1.27</td>\n      <td>1.35</td>\n      <td>2.44</td>\n      <td>58.82</td>\n      <td>125.88</td>\n      <td>622.52</td>\n      <td>214.40</td>\n      <td>452.17</td>\n      <td>1106.52</td>\n      <td>414.25</td>\n      <td>615.95</td>\n      <td>776.51</td>\n      <td>783.57</td>\n    </tr>\n    <tr>\n      <th>4</th>\n      <td>COAL PRODUCTION</td>\n      <td>0.00</td>\n      <td>0.00</td>\n      <td>0.00</td>\n      <td>0.04</td>\n      <td>0.00</td>\n      <td>9.14</td>\n      <td>1.30</td>\n      <td>14.08</td>\n      <td>0.22</td>\n      <td>0.00</td>\n      <td>0.00</td>\n      <td>0.00</td>\n      <td>0.00</td>\n      <td>2.96</td>\n      <td>0.00</td>\n      <td>0.00</td>\n      <td>0.00</td>\n    </tr>\n  </tbody>\n</table>\n</div>"
          },
          "metadata": {}
        }
      ]
    },
    {
      "cell_type": "code",
      "source": "# Bottom 10 data\ndf.tail(10)",
      "metadata": {
        "trusted": true
      },
      "execution_count": 14,
      "outputs": [
        {
          "execution_count": 14,
          "output_type": "execute_result",
          "data": {
            "text/plain": "                                               Sector  2000-01  2001-02  \\\n53                                            TRADING    11.49    43.27   \n54                                     RETAIL TRADING     0.00     0.00   \n55                               AGRICULTURE SERVICES    17.52    14.06   \n56                             DIAMOND,GOLD ORNAMENTS    18.83     0.36   \n57  TEA AND COFFEE (PROCESSING & WAREHOUSING COFFE...    20.23     0.14   \n58  PRINTING OF BOOKS (INCLUDING LITHO PRINTING IN...     0.00     0.00   \n59                                               COIR     0.00     0.00   \n60           CONSTRUCTION (INFRASTRUCTURE) ACTIVITIES     0.00     0.00   \n61  CONSTRUCTION DEVELOPMENT: Townships, housing, ...    24.33    51.75   \n62                           MISCELLANEOUS INDUSTRIES   832.07   221.37   \n\n    2002-03  2003-04  2004-05  2005-06  2006-07  2007-08  2008-09  2009-10  \\\n53    38.13    31.12    14.22    28.93   114.65   345.02   643.64   737.95   \n54     0.00     0.00     0.00     0.00     0.00     1.27     0.09    13.73   \n55    11.01     0.59     3.83     9.08    12.53    58.13     5.35  1222.22   \n56     1.30     1.96     8.58    15.52    61.97    59.15    83.50    31.08   \n57     0.00     0.32     0.01     1.43     6.20    18.94    37.08     8.15   \n58     6.30     0.00     0.06     9.90    20.04    35.54    31.61    70.51   \n59     0.00     0.00     0.47     0.59     0.04     0.01     0.00     0.25   \n60     0.00     0.00     0.00     0.93    64.06   182.92   172.70   324.56   \n61    36.10    47.04   152.06   228.71  1392.95  3887.33  4657.51  5466.13   \n62   218.76   235.48   121.83   164.76   304.87   528.42  1549.70  1147.56   \n\n    2010-11  2011-12  2012-13  2013-14  2014-15  2015-16  2016-17  \n53   498.04   731.55   717.80  1343.39  2727.96  3845.32  2338.40  \n54    26.27    31.70    22.31    11.30   168.72   262.24   450.94  \n55    43.90    49.02   161.47    91.01    59.95    84.65    76.43  \n56    19.59    36.30    52.61    42.56   280.18    58.54   123.92  \n57     3.12     5.32     0.27     5.86     1.43     1.12     1.60  \n58    36.63    47.39    14.34   113.78    72.58   122.81    53.17  \n59     0.10     0.55     0.15     0.54     1.36     0.00     0.00  \n60   675.07   386.28   283.89   485.37   870.25  4510.71  1860.73  \n61  1663.03  3140.78  1332.49  1226.05   769.14   112.55   105.14  \n62  1475.97   813.38   229.49   468.74   765.88   668.77   296.40  ",
            "text/html": "<div>\n<style scoped>\n    .dataframe tbody tr th:only-of-type {\n        vertical-align: middle;\n    }\n\n    .dataframe tbody tr th {\n        vertical-align: top;\n    }\n\n    .dataframe thead th {\n        text-align: right;\n    }\n</style>\n<table border=\"1\" class=\"dataframe\">\n  <thead>\n    <tr style=\"text-align: right;\">\n      <th></th>\n      <th>Sector</th>\n      <th>2000-01</th>\n      <th>2001-02</th>\n      <th>2002-03</th>\n      <th>2003-04</th>\n      <th>2004-05</th>\n      <th>2005-06</th>\n      <th>2006-07</th>\n      <th>2007-08</th>\n      <th>2008-09</th>\n      <th>2009-10</th>\n      <th>2010-11</th>\n      <th>2011-12</th>\n      <th>2012-13</th>\n      <th>2013-14</th>\n      <th>2014-15</th>\n      <th>2015-16</th>\n      <th>2016-17</th>\n    </tr>\n  </thead>\n  <tbody>\n    <tr>\n      <th>53</th>\n      <td>TRADING</td>\n      <td>11.49</td>\n      <td>43.27</td>\n      <td>38.13</td>\n      <td>31.12</td>\n      <td>14.22</td>\n      <td>28.93</td>\n      <td>114.65</td>\n      <td>345.02</td>\n      <td>643.64</td>\n      <td>737.95</td>\n      <td>498.04</td>\n      <td>731.55</td>\n      <td>717.80</td>\n      <td>1343.39</td>\n      <td>2727.96</td>\n      <td>3845.32</td>\n      <td>2338.40</td>\n    </tr>\n    <tr>\n      <th>54</th>\n      <td>RETAIL TRADING</td>\n      <td>0.00</td>\n      <td>0.00</td>\n      <td>0.00</td>\n      <td>0.00</td>\n      <td>0.00</td>\n      <td>0.00</td>\n      <td>0.00</td>\n      <td>1.27</td>\n      <td>0.09</td>\n      <td>13.73</td>\n      <td>26.27</td>\n      <td>31.70</td>\n      <td>22.31</td>\n      <td>11.30</td>\n      <td>168.72</td>\n      <td>262.24</td>\n      <td>450.94</td>\n    </tr>\n    <tr>\n      <th>55</th>\n      <td>AGRICULTURE SERVICES</td>\n      <td>17.52</td>\n      <td>14.06</td>\n      <td>11.01</td>\n      <td>0.59</td>\n      <td>3.83</td>\n      <td>9.08</td>\n      <td>12.53</td>\n      <td>58.13</td>\n      <td>5.35</td>\n      <td>1222.22</td>\n      <td>43.90</td>\n      <td>49.02</td>\n      <td>161.47</td>\n      <td>91.01</td>\n      <td>59.95</td>\n      <td>84.65</td>\n      <td>76.43</td>\n    </tr>\n    <tr>\n      <th>56</th>\n      <td>DIAMOND,GOLD ORNAMENTS</td>\n      <td>18.83</td>\n      <td>0.36</td>\n      <td>1.30</td>\n      <td>1.96</td>\n      <td>8.58</td>\n      <td>15.52</td>\n      <td>61.97</td>\n      <td>59.15</td>\n      <td>83.50</td>\n      <td>31.08</td>\n      <td>19.59</td>\n      <td>36.30</td>\n      <td>52.61</td>\n      <td>42.56</td>\n      <td>280.18</td>\n      <td>58.54</td>\n      <td>123.92</td>\n    </tr>\n    <tr>\n      <th>57</th>\n      <td>TEA AND COFFEE (PROCESSING &amp; WAREHOUSING COFFE...</td>\n      <td>20.23</td>\n      <td>0.14</td>\n      <td>0.00</td>\n      <td>0.32</td>\n      <td>0.01</td>\n      <td>1.43</td>\n      <td>6.20</td>\n      <td>18.94</td>\n      <td>37.08</td>\n      <td>8.15</td>\n      <td>3.12</td>\n      <td>5.32</td>\n      <td>0.27</td>\n      <td>5.86</td>\n      <td>1.43</td>\n      <td>1.12</td>\n      <td>1.60</td>\n    </tr>\n    <tr>\n      <th>58</th>\n      <td>PRINTING OF BOOKS (INCLUDING LITHO PRINTING IN...</td>\n      <td>0.00</td>\n      <td>0.00</td>\n      <td>6.30</td>\n      <td>0.00</td>\n      <td>0.06</td>\n      <td>9.90</td>\n      <td>20.04</td>\n      <td>35.54</td>\n      <td>31.61</td>\n      <td>70.51</td>\n      <td>36.63</td>\n      <td>47.39</td>\n      <td>14.34</td>\n      <td>113.78</td>\n      <td>72.58</td>\n      <td>122.81</td>\n      <td>53.17</td>\n    </tr>\n    <tr>\n      <th>59</th>\n      <td>COIR</td>\n      <td>0.00</td>\n      <td>0.00</td>\n      <td>0.00</td>\n      <td>0.00</td>\n      <td>0.47</td>\n      <td>0.59</td>\n      <td>0.04</td>\n      <td>0.01</td>\n      <td>0.00</td>\n      <td>0.25</td>\n      <td>0.10</td>\n      <td>0.55</td>\n      <td>0.15</td>\n      <td>0.54</td>\n      <td>1.36</td>\n      <td>0.00</td>\n      <td>0.00</td>\n    </tr>\n    <tr>\n      <th>60</th>\n      <td>CONSTRUCTION (INFRASTRUCTURE) ACTIVITIES</td>\n      <td>0.00</td>\n      <td>0.00</td>\n      <td>0.00</td>\n      <td>0.00</td>\n      <td>0.00</td>\n      <td>0.93</td>\n      <td>64.06</td>\n      <td>182.92</td>\n      <td>172.70</td>\n      <td>324.56</td>\n      <td>675.07</td>\n      <td>386.28</td>\n      <td>283.89</td>\n      <td>485.37</td>\n      <td>870.25</td>\n      <td>4510.71</td>\n      <td>1860.73</td>\n    </tr>\n    <tr>\n      <th>61</th>\n      <td>CONSTRUCTION DEVELOPMENT: Townships, housing, ...</td>\n      <td>24.33</td>\n      <td>51.75</td>\n      <td>36.10</td>\n      <td>47.04</td>\n      <td>152.06</td>\n      <td>228.71</td>\n      <td>1392.95</td>\n      <td>3887.33</td>\n      <td>4657.51</td>\n      <td>5466.13</td>\n      <td>1663.03</td>\n      <td>3140.78</td>\n      <td>1332.49</td>\n      <td>1226.05</td>\n      <td>769.14</td>\n      <td>112.55</td>\n      <td>105.14</td>\n    </tr>\n    <tr>\n      <th>62</th>\n      <td>MISCELLANEOUS INDUSTRIES</td>\n      <td>832.07</td>\n      <td>221.37</td>\n      <td>218.76</td>\n      <td>235.48</td>\n      <td>121.83</td>\n      <td>164.76</td>\n      <td>304.87</td>\n      <td>528.42</td>\n      <td>1549.70</td>\n      <td>1147.56</td>\n      <td>1475.97</td>\n      <td>813.38</td>\n      <td>229.49</td>\n      <td>468.74</td>\n      <td>765.88</td>\n      <td>668.77</td>\n      <td>296.40</td>\n    </tr>\n  </tbody>\n</table>\n</div>"
          },
          "metadata": {}
        }
      ]
    },
    {
      "cell_type": "code",
      "source": "# Checking Datatypes of Columns\ndf.dtypes",
      "metadata": {
        "trusted": true
      },
      "execution_count": 15,
      "outputs": [
        {
          "execution_count": 15,
          "output_type": "execute_result",
          "data": {
            "text/plain": "Sector      object\n2000-01    float64\n2001-02    float64\n2002-03    float64\n2003-04    float64\n2004-05    float64\n2005-06    float64\n2006-07    float64\n2007-08    float64\n2008-09    float64\n2009-10    float64\n2010-11    float64\n2011-12    float64\n2012-13    float64\n2013-14    float64\n2014-15    float64\n2015-16    float64\n2016-17    float64\ndtype: object"
          },
          "metadata": {}
        }
      ]
    },
    {
      "cell_type": "code",
      "source": "# Describing the df\ndf.describe()",
      "metadata": {
        "trusted": true
      },
      "execution_count": 16,
      "outputs": [
        {
          "execution_count": 16,
          "output_type": "execute_result",
          "data": {
            "text/plain": "          2000-01     2001-02     2002-03     2003-04     2004-05  \\\ncount   63.000000   63.000000   63.000000   63.000000   63.000000   \nmean    37.757302   63.931587   42.925714   34.727778   51.090317   \nstd    112.227860  157.878737   86.606439   67.653735  101.934873   \nmin      0.000000    0.000000    0.000000    0.000000    0.000000   \n25%      0.000000    0.000000    0.200000    0.215000    0.715000   \n50%      4.030000    5.070000   11.010000    6.370000    9.090000   \n75%     23.510000   44.830000   36.555000   38.660000   43.205000   \nmax    832.070000  873.230000  419.960000  368.320000  527.900000   \n\n           2005-06      2006-07      2007-08      2008-09      2009-10  \\\ncount    63.000000    63.000000    63.000000    63.000000    63.000000   \nmean     87.932540   198.281905   390.085714   498.348571   410.069524   \nstd     206.436967   686.783115  1026.249935  1134.649040   926.814626   \nmin       0.000000     0.000000     0.000000     0.000000     0.000000   \n25%       1.230000     4.160000     9.950000    11.950000     7.880000   \n50%      22.620000    25.820000    58.820000    84.880000    69.740000   \n75%      63.855000   108.325000   279.270000   383.320000   341.595000   \nmax    1359.970000  4713.780000  6986.170000  6183.490000  5466.130000   \n\n           2010-11      2011-12      2012-13      2013-14      2014-15  \\\ncount    63.000000    63.000000    63.000000    63.000000    63.000000   \nmean    339.413810   557.472698   355.930000   385.703492   490.959841   \nstd     627.141139  1031.474056   778.091368   658.429944   837.787060   \nmin       0.000000     0.000000     0.000000     0.000000     0.000000   \n25%       8.430000    22.720000    15.115000    16.610000    33.800000   \n50%      58.070000   129.360000    95.410000   113.780000   177.220000   \n75%     304.280000   593.525000   288.025000   473.060000   595.390000   \nmax    3296.090000  5215.980000  4832.980000  3982.890000  4443.260000   \n\n           2015-16      2016-17  \ncount    63.000000    63.000000  \nmean    634.936349   690.131111  \nstd    1335.307706  1411.965354  \nmin       0.000000     0.000000  \n25%      30.000000    19.905000  \n50%     159.130000   110.860000  \n75%     519.070000   741.220000  \nmax    6889.460000  8684.070000  ",
            "text/html": "<div>\n<style scoped>\n    .dataframe tbody tr th:only-of-type {\n        vertical-align: middle;\n    }\n\n    .dataframe tbody tr th {\n        vertical-align: top;\n    }\n\n    .dataframe thead th {\n        text-align: right;\n    }\n</style>\n<table border=\"1\" class=\"dataframe\">\n  <thead>\n    <tr style=\"text-align: right;\">\n      <th></th>\n      <th>2000-01</th>\n      <th>2001-02</th>\n      <th>2002-03</th>\n      <th>2003-04</th>\n      <th>2004-05</th>\n      <th>2005-06</th>\n      <th>2006-07</th>\n      <th>2007-08</th>\n      <th>2008-09</th>\n      <th>2009-10</th>\n      <th>2010-11</th>\n      <th>2011-12</th>\n      <th>2012-13</th>\n      <th>2013-14</th>\n      <th>2014-15</th>\n      <th>2015-16</th>\n      <th>2016-17</th>\n    </tr>\n  </thead>\n  <tbody>\n    <tr>\n      <th>count</th>\n      <td>63.000000</td>\n      <td>63.000000</td>\n      <td>63.000000</td>\n      <td>63.000000</td>\n      <td>63.000000</td>\n      <td>63.000000</td>\n      <td>63.000000</td>\n      <td>63.000000</td>\n      <td>63.000000</td>\n      <td>63.000000</td>\n      <td>63.000000</td>\n      <td>63.000000</td>\n      <td>63.000000</td>\n      <td>63.000000</td>\n      <td>63.000000</td>\n      <td>63.000000</td>\n      <td>63.000000</td>\n    </tr>\n    <tr>\n      <th>mean</th>\n      <td>37.757302</td>\n      <td>63.931587</td>\n      <td>42.925714</td>\n      <td>34.727778</td>\n      <td>51.090317</td>\n      <td>87.932540</td>\n      <td>198.281905</td>\n      <td>390.085714</td>\n      <td>498.348571</td>\n      <td>410.069524</td>\n      <td>339.413810</td>\n      <td>557.472698</td>\n      <td>355.930000</td>\n      <td>385.703492</td>\n      <td>490.959841</td>\n      <td>634.936349</td>\n      <td>690.131111</td>\n    </tr>\n    <tr>\n      <th>std</th>\n      <td>112.227860</td>\n      <td>157.878737</td>\n      <td>86.606439</td>\n      <td>67.653735</td>\n      <td>101.934873</td>\n      <td>206.436967</td>\n      <td>686.783115</td>\n      <td>1026.249935</td>\n      <td>1134.649040</td>\n      <td>926.814626</td>\n      <td>627.141139</td>\n      <td>1031.474056</td>\n      <td>778.091368</td>\n      <td>658.429944</td>\n      <td>837.787060</td>\n      <td>1335.307706</td>\n      <td>1411.965354</td>\n    </tr>\n    <tr>\n      <th>min</th>\n      <td>0.000000</td>\n      <td>0.000000</td>\n      <td>0.000000</td>\n      <td>0.000000</td>\n      <td>0.000000</td>\n      <td>0.000000</td>\n      <td>0.000000</td>\n      <td>0.000000</td>\n      <td>0.000000</td>\n      <td>0.000000</td>\n      <td>0.000000</td>\n      <td>0.000000</td>\n      <td>0.000000</td>\n      <td>0.000000</td>\n      <td>0.000000</td>\n      <td>0.000000</td>\n      <td>0.000000</td>\n    </tr>\n    <tr>\n      <th>25%</th>\n      <td>0.000000</td>\n      <td>0.000000</td>\n      <td>0.200000</td>\n      <td>0.215000</td>\n      <td>0.715000</td>\n      <td>1.230000</td>\n      <td>4.160000</td>\n      <td>9.950000</td>\n      <td>11.950000</td>\n      <td>7.880000</td>\n      <td>8.430000</td>\n      <td>22.720000</td>\n      <td>15.115000</td>\n      <td>16.610000</td>\n      <td>33.800000</td>\n      <td>30.000000</td>\n      <td>19.905000</td>\n    </tr>\n    <tr>\n      <th>50%</th>\n      <td>4.030000</td>\n      <td>5.070000</td>\n      <td>11.010000</td>\n      <td>6.370000</td>\n      <td>9.090000</td>\n      <td>22.620000</td>\n      <td>25.820000</td>\n      <td>58.820000</td>\n      <td>84.880000</td>\n      <td>69.740000</td>\n      <td>58.070000</td>\n      <td>129.360000</td>\n      <td>95.410000</td>\n      <td>113.780000</td>\n      <td>177.220000</td>\n      <td>159.130000</td>\n      <td>110.860000</td>\n    </tr>\n    <tr>\n      <th>75%</th>\n      <td>23.510000</td>\n      <td>44.830000</td>\n      <td>36.555000</td>\n      <td>38.660000</td>\n      <td>43.205000</td>\n      <td>63.855000</td>\n      <td>108.325000</td>\n      <td>279.270000</td>\n      <td>383.320000</td>\n      <td>341.595000</td>\n      <td>304.280000</td>\n      <td>593.525000</td>\n      <td>288.025000</td>\n      <td>473.060000</td>\n      <td>595.390000</td>\n      <td>519.070000</td>\n      <td>741.220000</td>\n    </tr>\n    <tr>\n      <th>max</th>\n      <td>832.070000</td>\n      <td>873.230000</td>\n      <td>419.960000</td>\n      <td>368.320000</td>\n      <td>527.900000</td>\n      <td>1359.970000</td>\n      <td>4713.780000</td>\n      <td>6986.170000</td>\n      <td>6183.490000</td>\n      <td>5466.130000</td>\n      <td>3296.090000</td>\n      <td>5215.980000</td>\n      <td>4832.980000</td>\n      <td>3982.890000</td>\n      <td>4443.260000</td>\n      <td>6889.460000</td>\n      <td>8684.070000</td>\n    </tr>\n  </tbody>\n</table>\n</div>"
          },
          "metadata": {}
        }
      ]
    },
    {
      "cell_type": "code",
      "source": "# Columns Names present in a dataframe\ndf.columns",
      "metadata": {
        "trusted": true
      },
      "execution_count": 17,
      "outputs": [
        {
          "execution_count": 17,
          "output_type": "execute_result",
          "data": {
            "text/plain": "Index(['Sector', '2000-01', '2001-02', '2002-03', '2003-04', '2004-05',\n       '2005-06', '2006-07', '2007-08', '2008-09', '2009-10', '2010-11',\n       '2011-12', '2012-13', '2013-14', '2014-15', '2015-16', '2016-17'],\n      dtype='object')"
          },
          "metadata": {}
        }
      ]
    },
    {
      "cell_type": "code",
      "source": "# Checking the shape of dataframe\ndf.shape\n#63 records and 18 attributes",
      "metadata": {
        "trusted": true
      },
      "execution_count": 18,
      "outputs": [
        {
          "execution_count": 18,
          "output_type": "execute_result",
          "data": {
            "text/plain": "(63, 18)"
          },
          "metadata": {}
        }
      ]
    },
    {
      "cell_type": "code",
      "source": "# Checking mean \ndf.mean()",
      "metadata": {
        "trusted": true
      },
      "execution_count": 19,
      "outputs": [
        {
          "name": "stderr",
          "text": "<ipython-input-19-c61f0c8f89b5>:1: FutureWarning: Dropping of nuisance columns in DataFrame reductions (with 'numeric_only=None') is deprecated; in a future version this will raise TypeError.  Select only valid columns before calling the reduction.\n  df.mean()\n",
          "output_type": "stream"
        },
        {
          "execution_count": 19,
          "output_type": "execute_result",
          "data": {
            "text/plain": "2000-01     37.757302\n2001-02     63.931587\n2002-03     42.925714\n2003-04     34.727778\n2004-05     51.090317\n2005-06     87.932540\n2006-07    198.281905\n2007-08    390.085714\n2008-09    498.348571\n2009-10    410.069524\n2010-11    339.413810\n2011-12    557.472698\n2012-13    355.930000\n2013-14    385.703492\n2014-15    490.959841\n2015-16    634.936349\n2016-17    690.131111\ndtype: float64"
          },
          "metadata": {}
        }
      ]
    },
    {
      "cell_type": "code",
      "source": "# Checking info\ndf.info()",
      "metadata": {
        "trusted": true
      },
      "execution_count": 20,
      "outputs": [
        {
          "name": "stdout",
          "text": "<class 'pandas.core.frame.DataFrame'>\nRangeIndex: 63 entries, 0 to 62\nData columns (total 18 columns):\n #   Column   Non-Null Count  Dtype  \n---  ------   --------------  -----  \n 0   Sector   63 non-null     object \n 1   2000-01  63 non-null     float64\n 2   2001-02  63 non-null     float64\n 3   2002-03  63 non-null     float64\n 4   2003-04  63 non-null     float64\n 5   2004-05  63 non-null     float64\n 6   2005-06  63 non-null     float64\n 7   2006-07  63 non-null     float64\n 8   2007-08  63 non-null     float64\n 9   2008-09  63 non-null     float64\n 10  2009-10  63 non-null     float64\n 11  2010-11  63 non-null     float64\n 12  2011-12  63 non-null     float64\n 13  2012-13  63 non-null     float64\n 14  2013-14  63 non-null     float64\n 15  2014-15  63 non-null     float64\n 16  2015-16  63 non-null     float64\n 17  2016-17  63 non-null     float64\ndtypes: float64(17), object(1)\nmemory usage: 8.7+ KB\n",
          "output_type": "stream"
        }
      ]
    },
    {
      "cell_type": "code",
      "source": "# Maximum Investment in year 2000-01\ndf['2000-01'].max()",
      "metadata": {
        "trusted": true
      },
      "execution_count": 21,
      "outputs": [
        {
          "execution_count": 21,
          "output_type": "execute_result",
          "data": {
            "text/plain": "832.07"
          },
          "metadata": {}
        }
      ]
    },
    {
      "cell_type": "code",
      "source": "# Minimum Investment in 2000-01 year\ndf['2000-01'].min()",
      "metadata": {
        "trusted": true
      },
      "execution_count": 22,
      "outputs": [
        {
          "execution_count": 22,
          "output_type": "execute_result",
          "data": {
            "text/plain": "0.0"
          },
          "metadata": {}
        }
      ]
    },
    {
      "cell_type": "code",
      "source": "# Checking Null values\ndf.isnull()",
      "metadata": {
        "trusted": true
      },
      "execution_count": 23,
      "outputs": [
        {
          "execution_count": 23,
          "output_type": "execute_result",
          "data": {
            "text/plain": "    Sector  2000-01  2001-02  2002-03  2003-04  2004-05  2005-06  2006-07  \\\n0    False    False    False    False    False    False    False    False   \n1    False    False    False    False    False    False    False    False   \n2    False    False    False    False    False    False    False    False   \n3    False    False    False    False    False    False    False    False   \n4    False    False    False    False    False    False    False    False   \n..     ...      ...      ...      ...      ...      ...      ...      ...   \n58   False    False    False    False    False    False    False    False   \n59   False    False    False    False    False    False    False    False   \n60   False    False    False    False    False    False    False    False   \n61   False    False    False    False    False    False    False    False   \n62   False    False    False    False    False    False    False    False   \n\n    2007-08  2008-09  2009-10  2010-11  2011-12  2012-13  2013-14  2014-15  \\\n0     False    False    False    False    False    False    False    False   \n1     False    False    False    False    False    False    False    False   \n2     False    False    False    False    False    False    False    False   \n3     False    False    False    False    False    False    False    False   \n4     False    False    False    False    False    False    False    False   \n..      ...      ...      ...      ...      ...      ...      ...      ...   \n58    False    False    False    False    False    False    False    False   \n59    False    False    False    False    False    False    False    False   \n60    False    False    False    False    False    False    False    False   \n61    False    False    False    False    False    False    False    False   \n62    False    False    False    False    False    False    False    False   \n\n    2015-16  2016-17  \n0     False    False  \n1     False    False  \n2     False    False  \n3     False    False  \n4     False    False  \n..      ...      ...  \n58    False    False  \n59    False    False  \n60    False    False  \n61    False    False  \n62    False    False  \n\n[63 rows x 18 columns]",
            "text/html": "<div>\n<style scoped>\n    .dataframe tbody tr th:only-of-type {\n        vertical-align: middle;\n    }\n\n    .dataframe tbody tr th {\n        vertical-align: top;\n    }\n\n    .dataframe thead th {\n        text-align: right;\n    }\n</style>\n<table border=\"1\" class=\"dataframe\">\n  <thead>\n    <tr style=\"text-align: right;\">\n      <th></th>\n      <th>Sector</th>\n      <th>2000-01</th>\n      <th>2001-02</th>\n      <th>2002-03</th>\n      <th>2003-04</th>\n      <th>2004-05</th>\n      <th>2005-06</th>\n      <th>2006-07</th>\n      <th>2007-08</th>\n      <th>2008-09</th>\n      <th>2009-10</th>\n      <th>2010-11</th>\n      <th>2011-12</th>\n      <th>2012-13</th>\n      <th>2013-14</th>\n      <th>2014-15</th>\n      <th>2015-16</th>\n      <th>2016-17</th>\n    </tr>\n  </thead>\n  <tbody>\n    <tr>\n      <th>0</th>\n      <td>False</td>\n      <td>False</td>\n      <td>False</td>\n      <td>False</td>\n      <td>False</td>\n      <td>False</td>\n      <td>False</td>\n      <td>False</td>\n      <td>False</td>\n      <td>False</td>\n      <td>False</td>\n      <td>False</td>\n      <td>False</td>\n      <td>False</td>\n      <td>False</td>\n      <td>False</td>\n      <td>False</td>\n      <td>False</td>\n    </tr>\n    <tr>\n      <th>1</th>\n      <td>False</td>\n      <td>False</td>\n      <td>False</td>\n      <td>False</td>\n      <td>False</td>\n      <td>False</td>\n      <td>False</td>\n      <td>False</td>\n      <td>False</td>\n      <td>False</td>\n      <td>False</td>\n      <td>False</td>\n      <td>False</td>\n      <td>False</td>\n      <td>False</td>\n      <td>False</td>\n      <td>False</td>\n      <td>False</td>\n    </tr>\n    <tr>\n      <th>2</th>\n      <td>False</td>\n      <td>False</td>\n      <td>False</td>\n      <td>False</td>\n      <td>False</td>\n      <td>False</td>\n      <td>False</td>\n      <td>False</td>\n      <td>False</td>\n      <td>False</td>\n      <td>False</td>\n      <td>False</td>\n      <td>False</td>\n      <td>False</td>\n      <td>False</td>\n      <td>False</td>\n      <td>False</td>\n      <td>False</td>\n    </tr>\n    <tr>\n      <th>3</th>\n      <td>False</td>\n      <td>False</td>\n      <td>False</td>\n      <td>False</td>\n      <td>False</td>\n      <td>False</td>\n      <td>False</td>\n      <td>False</td>\n      <td>False</td>\n      <td>False</td>\n      <td>False</td>\n      <td>False</td>\n      <td>False</td>\n      <td>False</td>\n      <td>False</td>\n      <td>False</td>\n      <td>False</td>\n      <td>False</td>\n    </tr>\n    <tr>\n      <th>4</th>\n      <td>False</td>\n      <td>False</td>\n      <td>False</td>\n      <td>False</td>\n      <td>False</td>\n      <td>False</td>\n      <td>False</td>\n      <td>False</td>\n      <td>False</td>\n      <td>False</td>\n      <td>False</td>\n      <td>False</td>\n      <td>False</td>\n      <td>False</td>\n      <td>False</td>\n      <td>False</td>\n      <td>False</td>\n      <td>False</td>\n    </tr>\n    <tr>\n      <th>...</th>\n      <td>...</td>\n      <td>...</td>\n      <td>...</td>\n      <td>...</td>\n      <td>...</td>\n      <td>...</td>\n      <td>...</td>\n      <td>...</td>\n      <td>...</td>\n      <td>...</td>\n      <td>...</td>\n      <td>...</td>\n      <td>...</td>\n      <td>...</td>\n      <td>...</td>\n      <td>...</td>\n      <td>...</td>\n      <td>...</td>\n    </tr>\n    <tr>\n      <th>58</th>\n      <td>False</td>\n      <td>False</td>\n      <td>False</td>\n      <td>False</td>\n      <td>False</td>\n      <td>False</td>\n      <td>False</td>\n      <td>False</td>\n      <td>False</td>\n      <td>False</td>\n      <td>False</td>\n      <td>False</td>\n      <td>False</td>\n      <td>False</td>\n      <td>False</td>\n      <td>False</td>\n      <td>False</td>\n      <td>False</td>\n    </tr>\n    <tr>\n      <th>59</th>\n      <td>False</td>\n      <td>False</td>\n      <td>False</td>\n      <td>False</td>\n      <td>False</td>\n      <td>False</td>\n      <td>False</td>\n      <td>False</td>\n      <td>False</td>\n      <td>False</td>\n      <td>False</td>\n      <td>False</td>\n      <td>False</td>\n      <td>False</td>\n      <td>False</td>\n      <td>False</td>\n      <td>False</td>\n      <td>False</td>\n    </tr>\n    <tr>\n      <th>60</th>\n      <td>False</td>\n      <td>False</td>\n      <td>False</td>\n      <td>False</td>\n      <td>False</td>\n      <td>False</td>\n      <td>False</td>\n      <td>False</td>\n      <td>False</td>\n      <td>False</td>\n      <td>False</td>\n      <td>False</td>\n      <td>False</td>\n      <td>False</td>\n      <td>False</td>\n      <td>False</td>\n      <td>False</td>\n      <td>False</td>\n    </tr>\n    <tr>\n      <th>61</th>\n      <td>False</td>\n      <td>False</td>\n      <td>False</td>\n      <td>False</td>\n      <td>False</td>\n      <td>False</td>\n      <td>False</td>\n      <td>False</td>\n      <td>False</td>\n      <td>False</td>\n      <td>False</td>\n      <td>False</td>\n      <td>False</td>\n      <td>False</td>\n      <td>False</td>\n      <td>False</td>\n      <td>False</td>\n      <td>False</td>\n    </tr>\n    <tr>\n      <th>62</th>\n      <td>False</td>\n      <td>False</td>\n      <td>False</td>\n      <td>False</td>\n      <td>False</td>\n      <td>False</td>\n      <td>False</td>\n      <td>False</td>\n      <td>False</td>\n      <td>False</td>\n      <td>False</td>\n      <td>False</td>\n      <td>False</td>\n      <td>False</td>\n      <td>False</td>\n      <td>False</td>\n      <td>False</td>\n      <td>False</td>\n    </tr>\n  </tbody>\n</table>\n<p>63 rows × 18 columns</p>\n</div>"
          },
          "metadata": {}
        }
      ]
    },
    {
      "cell_type": "code",
      "source": "#Checking Missing values\ndf.isna()",
      "metadata": {
        "trusted": true
      },
      "execution_count": 24,
      "outputs": [
        {
          "execution_count": 24,
          "output_type": "execute_result",
          "data": {
            "text/plain": "    Sector  2000-01  2001-02  2002-03  2003-04  2004-05  2005-06  2006-07  \\\n0    False    False    False    False    False    False    False    False   \n1    False    False    False    False    False    False    False    False   \n2    False    False    False    False    False    False    False    False   \n3    False    False    False    False    False    False    False    False   \n4    False    False    False    False    False    False    False    False   \n..     ...      ...      ...      ...      ...      ...      ...      ...   \n58   False    False    False    False    False    False    False    False   \n59   False    False    False    False    False    False    False    False   \n60   False    False    False    False    False    False    False    False   \n61   False    False    False    False    False    False    False    False   \n62   False    False    False    False    False    False    False    False   \n\n    2007-08  2008-09  2009-10  2010-11  2011-12  2012-13  2013-14  2014-15  \\\n0     False    False    False    False    False    False    False    False   \n1     False    False    False    False    False    False    False    False   \n2     False    False    False    False    False    False    False    False   \n3     False    False    False    False    False    False    False    False   \n4     False    False    False    False    False    False    False    False   \n..      ...      ...      ...      ...      ...      ...      ...      ...   \n58    False    False    False    False    False    False    False    False   \n59    False    False    False    False    False    False    False    False   \n60    False    False    False    False    False    False    False    False   \n61    False    False    False    False    False    False    False    False   \n62    False    False    False    False    False    False    False    False   \n\n    2015-16  2016-17  \n0     False    False  \n1     False    False  \n2     False    False  \n3     False    False  \n4     False    False  \n..      ...      ...  \n58    False    False  \n59    False    False  \n60    False    False  \n61    False    False  \n62    False    False  \n\n[63 rows x 18 columns]",
            "text/html": "<div>\n<style scoped>\n    .dataframe tbody tr th:only-of-type {\n        vertical-align: middle;\n    }\n\n    .dataframe tbody tr th {\n        vertical-align: top;\n    }\n\n    .dataframe thead th {\n        text-align: right;\n    }\n</style>\n<table border=\"1\" class=\"dataframe\">\n  <thead>\n    <tr style=\"text-align: right;\">\n      <th></th>\n      <th>Sector</th>\n      <th>2000-01</th>\n      <th>2001-02</th>\n      <th>2002-03</th>\n      <th>2003-04</th>\n      <th>2004-05</th>\n      <th>2005-06</th>\n      <th>2006-07</th>\n      <th>2007-08</th>\n      <th>2008-09</th>\n      <th>2009-10</th>\n      <th>2010-11</th>\n      <th>2011-12</th>\n      <th>2012-13</th>\n      <th>2013-14</th>\n      <th>2014-15</th>\n      <th>2015-16</th>\n      <th>2016-17</th>\n    </tr>\n  </thead>\n  <tbody>\n    <tr>\n      <th>0</th>\n      <td>False</td>\n      <td>False</td>\n      <td>False</td>\n      <td>False</td>\n      <td>False</td>\n      <td>False</td>\n      <td>False</td>\n      <td>False</td>\n      <td>False</td>\n      <td>False</td>\n      <td>False</td>\n      <td>False</td>\n      <td>False</td>\n      <td>False</td>\n      <td>False</td>\n      <td>False</td>\n      <td>False</td>\n      <td>False</td>\n    </tr>\n    <tr>\n      <th>1</th>\n      <td>False</td>\n      <td>False</td>\n      <td>False</td>\n      <td>False</td>\n      <td>False</td>\n      <td>False</td>\n      <td>False</td>\n      <td>False</td>\n      <td>False</td>\n      <td>False</td>\n      <td>False</td>\n      <td>False</td>\n      <td>False</td>\n      <td>False</td>\n      <td>False</td>\n      <td>False</td>\n      <td>False</td>\n      <td>False</td>\n    </tr>\n    <tr>\n      <th>2</th>\n      <td>False</td>\n      <td>False</td>\n      <td>False</td>\n      <td>False</td>\n      <td>False</td>\n      <td>False</td>\n      <td>False</td>\n      <td>False</td>\n      <td>False</td>\n      <td>False</td>\n      <td>False</td>\n      <td>False</td>\n      <td>False</td>\n      <td>False</td>\n      <td>False</td>\n      <td>False</td>\n      <td>False</td>\n      <td>False</td>\n    </tr>\n    <tr>\n      <th>3</th>\n      <td>False</td>\n      <td>False</td>\n      <td>False</td>\n      <td>False</td>\n      <td>False</td>\n      <td>False</td>\n      <td>False</td>\n      <td>False</td>\n      <td>False</td>\n      <td>False</td>\n      <td>False</td>\n      <td>False</td>\n      <td>False</td>\n      <td>False</td>\n      <td>False</td>\n      <td>False</td>\n      <td>False</td>\n      <td>False</td>\n    </tr>\n    <tr>\n      <th>4</th>\n      <td>False</td>\n      <td>False</td>\n      <td>False</td>\n      <td>False</td>\n      <td>False</td>\n      <td>False</td>\n      <td>False</td>\n      <td>False</td>\n      <td>False</td>\n      <td>False</td>\n      <td>False</td>\n      <td>False</td>\n      <td>False</td>\n      <td>False</td>\n      <td>False</td>\n      <td>False</td>\n      <td>False</td>\n      <td>False</td>\n    </tr>\n    <tr>\n      <th>...</th>\n      <td>...</td>\n      <td>...</td>\n      <td>...</td>\n      <td>...</td>\n      <td>...</td>\n      <td>...</td>\n      <td>...</td>\n      <td>...</td>\n      <td>...</td>\n      <td>...</td>\n      <td>...</td>\n      <td>...</td>\n      <td>...</td>\n      <td>...</td>\n      <td>...</td>\n      <td>...</td>\n      <td>...</td>\n      <td>...</td>\n    </tr>\n    <tr>\n      <th>58</th>\n      <td>False</td>\n      <td>False</td>\n      <td>False</td>\n      <td>False</td>\n      <td>False</td>\n      <td>False</td>\n      <td>False</td>\n      <td>False</td>\n      <td>False</td>\n      <td>False</td>\n      <td>False</td>\n      <td>False</td>\n      <td>False</td>\n      <td>False</td>\n      <td>False</td>\n      <td>False</td>\n      <td>False</td>\n      <td>False</td>\n    </tr>\n    <tr>\n      <th>59</th>\n      <td>False</td>\n      <td>False</td>\n      <td>False</td>\n      <td>False</td>\n      <td>False</td>\n      <td>False</td>\n      <td>False</td>\n      <td>False</td>\n      <td>False</td>\n      <td>False</td>\n      <td>False</td>\n      <td>False</td>\n      <td>False</td>\n      <td>False</td>\n      <td>False</td>\n      <td>False</td>\n      <td>False</td>\n      <td>False</td>\n    </tr>\n    <tr>\n      <th>60</th>\n      <td>False</td>\n      <td>False</td>\n      <td>False</td>\n      <td>False</td>\n      <td>False</td>\n      <td>False</td>\n      <td>False</td>\n      <td>False</td>\n      <td>False</td>\n      <td>False</td>\n      <td>False</td>\n      <td>False</td>\n      <td>False</td>\n      <td>False</td>\n      <td>False</td>\n      <td>False</td>\n      <td>False</td>\n      <td>False</td>\n    </tr>\n    <tr>\n      <th>61</th>\n      <td>False</td>\n      <td>False</td>\n      <td>False</td>\n      <td>False</td>\n      <td>False</td>\n      <td>False</td>\n      <td>False</td>\n      <td>False</td>\n      <td>False</td>\n      <td>False</td>\n      <td>False</td>\n      <td>False</td>\n      <td>False</td>\n      <td>False</td>\n      <td>False</td>\n      <td>False</td>\n      <td>False</td>\n      <td>False</td>\n    </tr>\n    <tr>\n      <th>62</th>\n      <td>False</td>\n      <td>False</td>\n      <td>False</td>\n      <td>False</td>\n      <td>False</td>\n      <td>False</td>\n      <td>False</td>\n      <td>False</td>\n      <td>False</td>\n      <td>False</td>\n      <td>False</td>\n      <td>False</td>\n      <td>False</td>\n      <td>False</td>\n      <td>False</td>\n      <td>False</td>\n      <td>False</td>\n      <td>False</td>\n    </tr>\n  </tbody>\n</table>\n<p>63 rows × 18 columns</p>\n</div>"
          },
          "metadata": {}
        }
      ]
    },
    {
      "cell_type": "code",
      "source": "# Total number of sectors\ndf['Sector'].count()",
      "metadata": {
        "trusted": true
      },
      "execution_count": 25,
      "outputs": [
        {
          "execution_count": 25,
          "output_type": "execute_result",
          "data": {
            "text/plain": "63"
          },
          "metadata": {}
        }
      ]
    },
    {
      "cell_type": "code",
      "source": "# Investment analysis in 2000-01 year\n\nMin_inv = df['2000-01'].min()\nMax_inv = df['2000-01'].max()\nMean = df['2000-01'].mean()\nprint(\"Minimum Investment =\", Min_inv)\nprint(\"Maximum Investment =\", Min_inv)\nprint(\"Mean Investment =\",Mean)",
      "metadata": {
        "trusted": true
      },
      "execution_count": 26,
      "outputs": [
        {
          "name": "stdout",
          "text": "Minimum Investment = 0.0\nMaximum Investment = 0.0\nMean Investment = 37.75730158730158\n",
          "output_type": "stream"
        }
      ]
    },
    {
      "cell_type": "code",
      "source": "",
      "metadata": {},
      "execution_count": null,
      "outputs": []
    }
  ]
}